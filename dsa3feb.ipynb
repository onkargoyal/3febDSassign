{
 "cells": [
  {
   "cell_type": "code",
   "execution_count": null,
   "metadata": {},
   "outputs": [],
   "source": [
    "\n",
    "\n"
   ]
  },
  {
   "cell_type": "code",
   "execution_count": 4,
   "metadata": {},
   "outputs": [
    {
     "name": "stdout",
     "output_type": "stream",
     "text": [
      "[1, 3, 5, 7, 9, 11, 13, 15, 17, 19, 21, 23, 25, 27, 29, 31, 33, 35, 37, 39, 41, 43, 45, 47, 49, 51, 53, 55, 57, 59, 61, 63, 65, 67, 69, 71, 73, 75, 77, 79, 81, 83, 85, 87, 89, 91, 93, 95, 97, 99]\n"
     ]
    }
   ],
   "source": [
    "# def is used to create a function. \n",
    "#GETTING ODD NOS USING NORMAL FUNCTION\n",
    "def getOddNos(n):\n",
    " listOfOddNos=[]\n",
    " for ele in range(1, n+1, 2):\n",
    "    listOfOddNos.append(ele)\n",
    " return listOfOddNos\n",
    "\n",
    "#GETTING ODD NOS USING FILTER:-\n",
    "\n",
    "\n",
    "result = filter(lambda ele: ele%2!=0 , range(1,100))\n",
    "print(list(result))\n"
   ]
  },
  {
   "cell_type": "code",
   "execution_count": 25,
   "metadata": {},
   "outputs": [
    {
     "name": "stdout",
     "output_type": "stream",
     "text": [
      "a 90\n",
      "b 23\n"
     ]
    }
   ],
   "source": [
    "#*args is used when we have to give any no of parameters to the function. It works as a list accomodating all the parameters.\n",
    "# def printfn(m,*args):\n",
    "#     for i in args:\n",
    "#         print(i)\n",
    "#     print(m+20)\n",
    "\n",
    "# printfn(2,3,4,2,4)\n",
    "\n",
    "#**kwargs is used when we have to give any no of parameters in dictionary style . eg:-\n",
    "def printdict(**kwargs):\n",
    "    for key, value in kwargs.items():\n",
    "        print(key, value)\n",
    "\n",
    "d={\"a\":90, \"b\":23}\n",
    "printdict(a=90, b=23) "
   ]
  },
  {
   "cell_type": "code",
   "execution_count": 2,
   "metadata": {},
   "outputs": [
    {
     "name": "stdout",
     "output_type": "stream",
     "text": [
      "0\n",
      "1\n",
      "2\n",
      "3\n",
      "4\n",
      "5\n",
      "6\n",
      "7\n"
     ]
    }
   ],
   "source": [
    "# A generator function returns an iterator which is iterated over to get a sequence of values. Yield is used to return value without exiting the function.\n",
    "\n",
    "def printNos(n):\n",
    "    for ele in range(0, n+1):\n",
    "       yield (ele)\n",
    "fn=printNos(9)\n",
    "for i in range(0,8):\n",
    " \n",
    "  print(next(fn)) \n",
    " \n",
    "\n"
   ]
  },
  {
   "cell_type": "code",
   "execution_count": 50,
   "metadata": {},
   "outputs": [
    {
     "name": "stdout",
     "output_type": "stream",
     "text": [
      "2\n",
      "3\n",
      "5\n",
      "7\n",
      "11\n",
      "13\n",
      "17\n",
      "19\n",
      "23\n",
      "29\n",
      "31\n",
      "37\n",
      "41\n",
      "43\n",
      "47\n",
      "53\n",
      "59\n",
      "61\n",
      "67\n",
      "71\n"
     ]
    }
   ],
   "source": [
    "def genPrimes():\n",
    "    l=range(2,1000)\n",
    "    listofprimes=[]\n",
    "    isPrime=True\n",
    "    for i in l:\n",
    "        isPrime=True\n",
    "        for divisor in range(2,i):\n",
    "            if (i%divisor==0):\n",
    "                isPrime=False\n",
    "        if isPrime==True:\n",
    "         yield(i)\n",
    "    \n",
    "\n",
    "primes=genPrimes()\n",
    "for i in range(0,20):\n",
    "    print(next(primes))\n"
   ]
  },
  {
   "cell_type": "code",
   "execution_count": 52,
   "metadata": {},
   "outputs": [
    {
     "name": "stdout",
     "output_type": "stream",
     "text": [
      "1\n",
      "2\n",
      "3\n",
      "5\n",
      "8\n",
      "13\n",
      "21\n",
      "34\n",
      "55\n",
      "89\n",
      "144\n",
      "233\n",
      "377\n",
      "610\n",
      "987\n",
      "1597\n",
      "2584\n",
      "4181\n",
      "6765\n",
      "10946\n"
     ]
    },
    {
     "ename": "StopIteration",
     "evalue": "",
     "output_type": "error",
     "traceback": [
      "\u001b[1;31m---------------------------------------------------------------------------\u001b[0m",
      "\u001b[1;31mStopIteration\u001b[0m                             Traceback (most recent call last)",
      "Cell \u001b[1;32mIn[52], line 15\u001b[0m\n\u001b[0;32m     13\u001b[0m fibo\u001b[39m=\u001b[39mfibonacci(\u001b[39m20\u001b[39m)\n\u001b[0;32m     14\u001b[0m \u001b[39mwhile\u001b[39;00m \u001b[39mTrue\u001b[39;00m:\n\u001b[1;32m---> 15\u001b[0m     \u001b[39mprint\u001b[39m (\u001b[39mnext\u001b[39m(fibo))\n",
      "\u001b[1;31mStopIteration\u001b[0m: "
     ]
    }
   ],
   "source": [
    "def fibonacci(n):\n",
    "    counter=0\n",
    "    a=0\n",
    "    b=1\n",
    "    while(counter<n):\n",
    "       \n",
    "        c=a+b \n",
    "        yield c\n",
    "        a=b\n",
    "        b=c\n",
    "        counter=counter+1\n",
    "\n",
    "fibo=fibonacci(20)\n",
    "while True:\n",
    "    print (next(fibo))"
   ]
  },
  {
   "cell_type": "code",
   "execution_count": 53,
   "metadata": {},
   "outputs": [
    {
     "name": "stdout",
     "output_type": "stream",
     "text": [
      "['p', 'w', 's', 'k', 'i', 'l', 'l', 's']\n"
     ]
    }
   ],
   "source": [
    "s=\"pwskills\"\n",
    "res=[i for i in s]\n",
    "print(res)\n"
   ]
  },
  {
   "cell_type": "code",
   "execution_count": 65,
   "metadata": {},
   "outputs": [
    {
     "name": "stdout",
     "output_type": "stream",
     "text": [
      "11\n",
      "2\n",
      "1\n",
      "NO IS PALINDROME\n"
     ]
    }
   ],
   "source": [
    "def checkPalindrome(num):\n",
    "    isPalindrome=True\n",
    "    strnum=str(num)\n",
    "    print(strnum)\n",
    "    lengthofstrnum=len(strnum)\n",
    "    print(lengthofstrnum)\n",
    "    print(strnum[0])\n",
    "    i=0\n",
    "    while(i< lengthofstrnum):\n",
    "        \n",
    "        if strnum[i]!=strnum[lengthofstrnum-1-i]:\n",
    "            isPalindrome=False\n",
    "        i=i+1\n",
    "    if isPalindrome==True:\n",
    "        print(\"NO IS PALINDROME\")\n",
    "\n",
    "\n",
    "    else: print(\"NO IS NOT PALINDROME\") \n",
    "\n",
    "checkPalindrome(11)\n"
   ]
  },
  {
   "cell_type": "code",
   "execution_count": 3,
   "metadata": {},
   "outputs": [
    {
     "name": "stdout",
     "output_type": "stream",
     "text": [
      "[1, 3, 5, 7, 9, 11, 13, 15, 17, 19, 21, 23, 25, 27, 29, 31, 33, 35, 37, 39, 41, 43, 45, 47, 49, 51, 53, 55, 57, 59, 61, 63, 65, 67, 69, 71, 73, 75, 77, 79, 81, 83, 85, 87, 89, 91, 93, 95, 97, 99]\n"
     ]
    }
   ],
   "source": [
    "listOfAllNos= range(1,101)\n",
    "listofOddNos=[ ele for ele in listOfAllNos if ele%2!=0]\n",
    "print(listofOddNos)"
   ]
  },
  {
   "cell_type": "code",
   "execution_count": null,
   "metadata": {},
   "outputs": [],
   "source": []
  }
 ],
 "metadata": {
  "kernelspec": {
   "display_name": "Python 3",
   "language": "python",
   "name": "python3"
  },
  "language_info": {
   "codemirror_mode": {
    "name": "ipython",
    "version": 3
   },
   "file_extension": ".py",
   "mimetype": "text/x-python",
   "name": "python",
   "nbconvert_exporter": "python",
   "pygments_lexer": "ipython3",
   "version": "3.11.1"
  },
  "orig_nbformat": 4,
  "vscode": {
   "interpreter": {
    "hash": "5238573367df39f7286bb46f9ff5f08f63a01a80960060ce41e3c79b190280fa"
   }
  }
 },
 "nbformat": 4,
 "nbformat_minor": 2
}
